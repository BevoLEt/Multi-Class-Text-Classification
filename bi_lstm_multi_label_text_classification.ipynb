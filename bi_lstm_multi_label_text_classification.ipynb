{
 "cells": [
  {
   "cell_type": "code",
   "execution_count": 1,
   "metadata": {
    "colab": {
     "base_uri": "https://localhost:8080/"
    },
    "executionInfo": {
     "elapsed": 4115,
     "status": "ok",
     "timestamp": 1621099123670,
     "user": {
      "displayName": "BevoLet",
      "photoUrl": "https://lh3.googleusercontent.com/a-/AOh14Gj4t1R4uOmV6FI344WUZj9-sSj086eoD8dqQmDT2Q=s64",
      "userId": "17774460919013434485"
     },
     "user_tz": -540
    },
    "id": "vA5otKKLE08w",
    "outputId": "92008826-9651-46e0-c582-915f0195f844"
   },
   "outputs": [
    {
     "name": "stdout",
     "output_type": "stream",
     "text": [
      "(8375, 1)\n",
      "(8381, 1)\n",
      "(2915, 1)\n",
      "(7972, 1)\n",
      "(6639, 1)\n",
      "(4274, 1)\n",
      "(3784, 1)\n",
      "(2598, 1)\n",
      "(4790, 1)\n",
      "(18000,)\n",
      "(18000,)\n"
     ]
    }
   ],
   "source": [
    "#Load Data\n",
    "import pandas as pd\n",
    "import numpy as np\n",
    "import os \n",
    "#a_food, b_cloth, c_education, d_store, e_lifeservice, \n",
    "#f_cafe, g_accommodation, h_leisure, i_estaet\n",
    "file_list=['a_food','b_cloth','c_education','d_store','e_lifeservice','f_cafe','g_accommodation','h_leisure','i_estate']\n",
    "\n",
    "dir_name=os.getcwd()\n",
    "\n",
    "x_data=[]\n",
    "y_data=[]\n",
    "#토픽별로 20000개씩 추출\n",
    "#label value : food-0, cloth-1, education-2,.... estate-8\n",
    "for i in range(0,len(file_list)) :\n",
    "  file_name=dir_name+'/'+file_list[i]+'.csv'\n",
    "  data=pd.read_csv(file_name,header=None)\n",
    "  print(data.shape)\n",
    "  for j in range(0,2000) :\n",
    "    x_data.append(data[0][j])\n",
    "    y_data.append(i)\n",
    "\n",
    "x_data=np.array(x_data)\n",
    "y_data=np.array(y_data)\n",
    "print(x_data.shape)\n",
    "print(y_data.shape)  \n"
   ]
  },
  {
   "cell_type": "code",
   "execution_count": 2,
   "metadata": {
    "colab": {
     "base_uri": "https://localhost:8080/"
    },
    "executionInfo": {
     "elapsed": 1292,
     "status": "ok",
     "timestamp": 1621099126714,
     "user": {
      "displayName": "BevoLet",
      "photoUrl": "https://lh3.googleusercontent.com/a-/AOh14Gj4t1R4uOmV6FI344WUZj9-sSj086eoD8dqQmDT2Q=s64",
      "userId": "17774460919013434485"
     },
     "user_tz": -540
    },
    "id": "XvJAMwWeyJmS",
    "outputId": "5a47567b-1dd3-44bd-a184-e270ea784d7b"
   },
   "outputs": [
    {
     "name": "stdout",
     "output_type": "stream",
     "text": [
      "16216\n",
      "[[23, 498], [5830, 19, 38, 1, 41, 364, 853, 1], [3663, 415, 46, 5831, 853, 723, 18], [3663, 2076, 946, 671, 193, 1729, 127, 1459], [5832, 5833, 557, 365]]\n",
      "30\n",
      "[[  23  498    0    0    0    0    0    0    0    0    0    0    0    0\n",
      "     0    0    0    0    0    0    0    0    0    0    0    0    0    0\n",
      "     0    0]\n",
      " [5830   19   38    1   41  364  853    1    0    0    0    0    0    0\n",
      "     0    0    0    0    0    0    0    0    0    0    0    0    0    0\n",
      "     0    0]\n",
      " [3663  415   46 5831  853  723   18    0    0    0    0    0    0    0\n",
      "     0    0    0    0    0    0    0    0    0    0    0    0    0    0\n",
      "     0    0]\n",
      " [3663 2076  946  671  193 1729  127 1459    0    0    0    0    0    0\n",
      "     0    0    0    0    0    0    0    0    0    0    0    0    0    0\n",
      "     0    0]\n",
      " [5832 5833  557  365    0    0    0    0    0    0    0    0    0    0\n",
      "     0    0    0    0    0    0    0    0    0    0    0    0    0    0\n",
      "     0    0]]\n"
     ]
    }
   ],
   "source": [
    "#Pre-processing \n",
    "#문장 토큰화, 데이터 패딩, 임베딩(단어->정수값부여->임베딩층통과->벡터화)\n",
    "from tensorflow.keras.preprocessing.text import Tokenizer\n",
    "from tensorflow.keras.preprocessing.sequence import pad_sequences\n",
    "import numpy as np\n",
    "\n",
    "#문장 토큰화\n",
    "t=Tokenizer()\n",
    "t.fit_on_texts(x_data)\n",
    "vocab_size=len(t.word_index)+1\n",
    "\n",
    "print(vocab_size) \n",
    "\n",
    "#정수 인코딩\n",
    "x_encoded=t.texts_to_sequences(x_data)\n",
    "print(x_encoded[0:5])\n",
    "max_len=max(len(i) for i in x_encoded) \n",
    "print(max_len) #제일 긴 문장 추출, 패딩에 사용 -- 20\n",
    "\n",
    "#모든 문장을 패딩 (길이 통일), 후에 모델 학습시 사용\n",
    "x_encoded=pad_sequences(x_encoded,maxlen=max_len,padding='post')\n",
    "print(x_encoded[0:5])\n",
    "\n"
   ]
  },
  {
   "cell_type": "code",
   "execution_count": 3,
   "metadata": {
    "colab": {
     "base_uri": "https://localhost:8080/"
    },
    "executionInfo": {
     "elapsed": 4112,
     "status": "ok",
     "timestamp": 1621099133722,
     "user": {
      "displayName": "BevoLet",
      "photoUrl": "https://lh3.googleusercontent.com/a-/AOh14Gj4t1R4uOmV6FI344WUZj9-sSj086eoD8dqQmDT2Q=s64",
      "userId": "17774460919013434485"
     },
     "user_tz": -540
    },
    "id": "FjAptQ4seNE8",
    "outputId": "f73154ac-cd8b-4bbc-c0ca-17bdbcd4693f"
   },
   "outputs": [
    {
     "name": "stdout",
     "output_type": "stream",
     "text": [
      "[('굶주림', 0.7315763235092163), ('갈증', 0.6932728290557861), ('우울증', 0.6545943021774292), ('두통', 0.6426253318786621), ('슬픔', 0.6376044154167175), ('고통', 0.6278344988822937), ('죄책감', 0.6167707443237305), ('고독', 0.6096115708351135), ('통증', 0.6073928475379944), ('가뭄', 0.5912175178527832)]\n",
      "Word2Vec(vocab=30185, size=200, alpha=0.025)\n",
      "(16216, 200)\n",
      "[ 0.87955445  3.51403809 -3.24564695 -0.44390556  1.65877819  2.79138994\n",
      " -2.38859749 -1.69410491 -4.66581869 -1.40278232  0.52966899  2.38166356\n",
      "  1.86097968 -0.2121693   1.29480684  1.340168    1.33980846  0.65593433\n",
      " -3.97182965 -1.87287378 -2.31968427 -0.36057377  1.96739149  2.63297033\n",
      "  3.62644196 -2.02101588 -2.54353046 -3.30448771 -1.73401546  0.10235422\n",
      "  2.16407609 -0.26688221 -1.28560567 -1.07995558 -0.43422294 -1.18709815\n",
      "  2.49914885 -2.92724586  2.0472517   3.16466165 -1.0194726  -0.43097895\n",
      "  0.96997708  2.60468745  0.87658358 -0.95602894  2.89103341 -0.47456264\n",
      "  0.29335284 -3.18679857 -1.16479719  0.40571555 -2.49110079 -0.73088485\n",
      " -0.95157933 -0.47662348 -1.70892262  0.93445814 -2.77651095 -3.0529511\n",
      " -4.91968822  5.06002235 -2.15430808 -1.68313539 -2.39215946  0.76772785\n",
      " -0.87946266  0.609424    2.02752399 -1.54784405  0.45070449  2.58603477\n",
      "  2.59317708 -0.32282627 -2.37348843 -2.20918298  0.22507933  2.93364596\n",
      "  0.45177811 -0.63386536 -4.16563749  0.11986081  1.91843855 -2.64651489\n",
      " -4.42129374  0.86168671 -0.37518859  0.82907426 -1.24126947 -0.47616771\n",
      "  3.4485805  -3.10809827 -1.96047401  1.35669827  0.93814272  1.31368029\n",
      "  1.05071747 -1.99768138 -0.99795443 -0.51403469 -0.32614344  2.72504163\n",
      " -0.83391166 -1.94259477 -1.84902477 -0.45762494 -2.11333776 -1.37368989\n",
      "  0.48921019 -2.3378253  -0.84315044  2.98428369  2.66475773 -2.78355861\n",
      " -2.84693837 -4.31333542 -6.19875479 -0.21488501 -2.13668728 -0.81721467\n",
      " -1.73070264 -0.7771678  -0.570903   -1.26383901 -1.67383051  0.59871942\n",
      "  1.67000842 -3.24008703  1.00734127 -1.22058308 -2.08412504 -0.64214826\n",
      "  0.99690551 -0.26890633 -1.56867731 -1.13106966  0.15695904  0.42776036\n",
      " -1.44155288 -2.27427769  3.46465325  0.57556111  1.7294594   3.63644886\n",
      " -3.61260843  2.32922006 -0.18920034  0.10861432 -1.36970711  2.8147645\n",
      "  1.6807791   0.72796452 -0.84923846  0.5883081   0.48313573 -4.31374216\n",
      "  3.23989058  0.76424021 -0.90233481 -1.46029234  0.29103902 -0.59646332\n",
      " -1.93445075  0.09955439 -2.10077453  1.81703055 -0.21641067 -0.30676064\n",
      " -4.22148848 -0.07612987 -2.76810813 -2.48643517 -0.46263102  3.40009737\n",
      "  0.8513521   3.70463419 -1.47415757  0.90702993  1.83258951 -1.46155858\n",
      " -0.02724529 -1.69391453  2.04618239  0.90828657 -1.715536   -1.49556184\n",
      " -1.48584569 -1.07690144 -0.58771271 -4.35417366 -3.33925486 -1.65874219\n",
      "  0.85608488 -0.16856313  3.3901391   1.06185663  2.12038684  0.54886311\n",
      "  1.3917495   0.06162295]\n",
      "(16216, 200)\n"
     ]
    },
    {
     "name": "stderr",
     "output_type": "stream",
     "text": [
      "<ipython-input-3-03d4e58f47a7>:6: DeprecationWarning: Call to deprecated `__contains__` (Method will be removed in 4.0.0, use self.wv.__contains__() instead).\n",
      "  if word in kor_word2vec_model :\n",
      "<ipython-input-3-03d4e58f47a7>:7: DeprecationWarning: Call to deprecated `__getitem__` (Method will be removed in 4.0.0, use self.wv.__getitem__() instead).\n",
      "  return kor_word2vec_model[word]\n"
     ]
    }
   ],
   "source": [
    "#Use Pre-trained Embedding Matrix - Word2Vec https://github.com/Kyubyong/wordvectors\n",
    "import gensim\n",
    "import numpy as np\n",
    "\n",
    "def get_vector(word) :\n",
    "  if word in kor_word2vec_model :\n",
    "    return kor_word2vec_model[word]\n",
    "  else :\n",
    "    return None\n",
    "\n",
    "kor_word2vec_model = gensim.models.Word2Vec.load(dir_name+'/ko.bin')\n",
    "result = kor_word2vec_model.wv.most_similar(\"배고픔\") #model test\n",
    "print(result) \n",
    "print(kor_word2vec_model) #vector_size=200\n",
    "\n",
    "embedding_dim=200\n",
    "embedding_matrix=np.zeros((vocab_size,embedding_dim))\n",
    "print(np.shape(embedding_matrix))\n",
    "for word, i in t.word_index.items():\n",
    "  temp=get_vector(word)\n",
    "  if temp is not None :\n",
    "    embedding_matrix[i]=temp; \n",
    "\n",
    "print(embedding_matrix[5])\n",
    "print(embedding_matrix.shape)\n",
    "\n"
   ]
  },
  {
   "cell_type": "code",
   "execution_count": 4,
   "metadata": {
    "colab": {
     "base_uri": "https://localhost:8080/"
    },
    "executionInfo": {
     "elapsed": 780,
     "status": "ok",
     "timestamp": 1621099136791,
     "user": {
      "displayName": "BevoLet",
      "photoUrl": "https://lh3.googleusercontent.com/a-/AOh14Gj4t1R4uOmV6FI344WUZj9-sSj086eoD8dqQmDT2Q=s64",
      "userId": "17774460919013434485"
     },
     "user_tz": -540
    },
    "id": "zzyDEpg-dHMD",
    "outputId": "575074a0-08ad-439c-a761-6967d723c553"
   },
   "outputs": [
    {
     "name": "stdout",
     "output_type": "stream",
     "text": [
      "(12600, 30)\n",
      "(5400, 30)\n",
      "(12600, 9)\n",
      "(5400, 9)\n"
     ]
    }
   ],
   "source": [
    "#Split Data\n",
    "from sklearn.model_selection import train_test_split\n",
    "from tensorflow.keras.utils import to_categorical\n",
    "#학습7 검증3\n",
    "\n",
    "categorical_y = to_categorical(y_data, 9)\n",
    "\n",
    "x_train, x_test, y_train, y_test = train_test_split(x_encoded,categorical_y,\n",
    "                                                    test_size=0.3,stratify=y_data,random_state=0)\n",
    "\n",
    "print(x_train.shape)\n",
    "print(x_test.shape)\n",
    "print(y_train.shape)\n",
    "print(y_test.shape)"
   ]
  },
  {
   "cell_type": "code",
   "execution_count": 5,
   "metadata": {},
   "outputs": [],
   "source": [
    "#GPU 셋팅\n",
    "import tensorflow as tf\n",
    "\n",
    "config = tf.compat.v1.ConfigProto()\n",
    "config.gpu_options.allow_growth=True\n",
    "session=tf.compat.v1.Session(config=config)\n",
    "\n",
    "config = tf.compat.v1.ConfigProto() \n",
    "config.gpu_options.per_process_gpu_memory_fraction = 0.3 \n",
    "session=tf.compat.v1.Session(config=config)\n",
    "\n"
   ]
  },
  {
   "cell_type": "code",
   "execution_count": 6,
   "metadata": {
    "colab": {
     "base_uri": "https://localhost:8080/",
     "height": 639
    },
    "executionInfo": {
     "elapsed": 1689,
     "status": "ok",
     "timestamp": 1621099251721,
     "user": {
      "displayName": "BevoLet",
      "photoUrl": "https://lh3.googleusercontent.com/a-/AOh14Gj4t1R4uOmV6FI344WUZj9-sSj086eoD8dqQmDT2Q=s64",
      "userId": "17774460919013434485"
     },
     "user_tz": -540
    },
    "id": "gOJYODqoELlS",
    "outputId": "a9af25f7-a331-4d78-f4dc-9b2e97d1ab0c"
   },
   "outputs": [
    {
     "name": "stdout",
     "output_type": "stream",
     "text": [
      "Bi-LSTM NetWork\n",
      "Model: \"model\"\n",
      "__________________________________________________________________________________________________\n",
      "Layer (type)                    Output Shape         Param #     Connected to                     \n",
      "==================================================================================================\n",
      "input_1 (InputLayer)            [(None, 30)]         0                                            \n",
      "__________________________________________________________________________________________________\n",
      "embedding (Embedding)           (None, 30, 200)      3243200     input_1[0][0]                    \n",
      "__________________________________________________________________________________________________\n",
      "embedding_1 (Embedding)         (None, 30, 200)      3243200     input_1[0][0]                    \n",
      "__________________________________________________________________________________________________\n",
      "dropout (Dropout)               (None, 30, 200)      0           embedding[0][0]                  \n",
      "__________________________________________________________________________________________________\n",
      "dropout_1 (Dropout)             (None, 30, 200)      0           embedding_1[0][0]                \n",
      "__________________________________________________________________________________________________\n",
      "concatenate (Concatenate)       (None, 30, 400)      0           dropout[0][0]                    \n",
      "                                                                 dropout_1[0][0]                  \n",
      "__________________________________________________________________________________________________\n",
      "bidirectional (Bidirectional)   (None, 400)          961600      concatenate[0][0]                \n",
      "__________________________________________________________________________________________________\n",
      "dropout_2 (Dropout)             (None, 400)          0           bidirectional[0][0]              \n",
      "__________________________________________________________________________________________________\n",
      "dense (Dense)                   (None, 9)            3609        dropout_2[0][0]                  \n",
      "==================================================================================================\n",
      "Total params: 7,451,609\n",
      "Trainable params: 4,208,409\n",
      "Non-trainable params: 3,243,200\n",
      "__________________________________________________________________________________________________\n"
     ]
    },
    {
     "data": {
      "image/png": "[encoded data removed]",
      "text/plain": [
       "<IPython.core.display.Image object>"
      ]
     },
     "execution_count": 6,
     "metadata": {},
     "output_type": "execute_result"
    }
   ],
   "source": [
    "#Bi-LSTM Network\n",
    "from tensorflow.keras.models import Model,Sequential\n",
    "from tensorflow.keras.layers import concatenate, Embedding, Input, LSTM, Dropout, Bidirectional,Dense\n",
    "import keras.utils as utils\n",
    "#model_input=Input(shape=(max_len,))\n",
    "#embedding_layer=Embedding(vocab_size,embedding_dim,weights=[embedding_matrix],\n",
    "#                          input_length=max_len,trainable=False)(model_input)\n",
    "\n",
    "main_input=Input(shape=(30,))\n",
    "non_static_channel=Embedding(vocab_size,embedding_dim,\n",
    "                            weights=[embedding_matrix],\n",
    "                            input_length=max_len,\n",
    "                            trainable=True)(main_input)\n",
    "non_static_channel=Dropout(0.5)(non_static_channel)\n",
    "\n",
    "static_channel=Embedding(vocab_size,embedding_dim,\n",
    "                            weights=[embedding_matrix],\n",
    "                            input_length=max_len,\n",
    "                            trainable=False)(main_input)\n",
    "static_channel=Dropout(0.5)(static_channel)\n",
    "\n",
    "two_channel=concatenate([non_static_channel,static_channel])\n",
    "\n",
    "bi_lstm=Bidirectional(LSTM(embedding_dim,activation='tanh',\n",
    "                             recurrent_activation='sigmoid',\n",
    "                             return_state=False,\n",
    "                             return_sequences=False))(two_channel)\n",
    "\n",
    "drop_out=Dropout(0.5)(bi_lstm)\n",
    "\n",
    "dc=Dense(9,activation='softmax')(drop_out)\n",
    "\n",
    "model=Model(inputs=main_input,outputs=dc)\n",
    "\n",
    "\n",
    "model.compile(optimizer='adam',                        \n",
    "              loss='categorical_crossentropy',  #sparse_categorical_crossentropy\n",
    "              metrics=['accuracy']) \n",
    "\n",
    "print('Bi-LSTM NetWork')\n",
    "model.summary()\n",
    "utils.plot_model(model)\n"
   ]
  },
  {
   "cell_type": "code",
   "execution_count": 7,
   "metadata": {
    "colab": {
     "base_uri": "https://localhost:8080/"
    },
    "executionInfo": {
     "elapsed": 493239,
     "status": "ok",
     "timestamp": 1621090285976,
     "user": {
      "displayName": "BevoLet",
      "photoUrl": "https://lh3.googleusercontent.com/a-/AOh14Gj4t1R4uOmV6FI344WUZj9-sSj086eoD8dqQmDT2Q=s64",
      "userId": "17774460919013434485"
     },
     "user_tz": -540
    },
    "id": "rH3Nk2amHvL6",
    "outputId": "fae786cc-a593-431b-d2cc-e72db9e24b77"
   },
   "outputs": [
    {
     "name": "stdout",
     "output_type": "stream",
     "text": [
      "Epoch 1/20\n",
      "394/394 [==============================] - 10s 17ms/step - loss: 2.0487 - accuracy: 0.2361 - val_loss: 1.6710 - val_accuracy: 0.4300\n",
      "Epoch 2/20\n",
      "394/394 [==============================] - 6s 16ms/step - loss: 1.5768 - accuracy: 0.4616 - val_loss: 1.3568 - val_accuracy: 0.5567\n",
      "Epoch 3/20\n",
      "394/394 [==============================] - 7s 17ms/step - loss: 1.1073 - accuracy: 0.6449 - val_loss: 1.1501 - val_accuracy: 0.6224\n",
      "Epoch 4/20\n",
      "394/394 [==============================] - 7s 17ms/step - loss: 0.6854 - accuracy: 0.7910 - val_loss: 1.1165 - val_accuracy: 0.6459\n",
      "Epoch 5/20\n",
      "394/394 [==============================] - 7s 17ms/step - loss: 0.4624 - accuracy: 0.8635 - val_loss: 1.1020 - val_accuracy: 0.6593\n",
      "Epoch 6/20\n",
      "394/394 [==============================] - 6s 16ms/step - loss: 0.3430 - accuracy: 0.8934 - val_loss: 1.1495 - val_accuracy: 0.6531\n",
      "Epoch 7/20\n",
      "394/394 [==============================] - 6s 16ms/step - loss: 0.2676 - accuracy: 0.9151 - val_loss: 1.1679 - val_accuracy: 0.6574\n",
      "Epoch 8/20\n",
      "394/394 [==============================] - 6s 16ms/step - loss: 0.2422 - accuracy: 0.9243 - val_loss: 1.1865 - val_accuracy: 0.6535\n",
      "Epoch 9/20\n",
      "394/394 [==============================] - 6s 16ms/step - loss: 0.2141 - accuracy: 0.9291 - val_loss: 1.2335 - val_accuracy: 0.6507\n",
      "Epoch 10/20\n",
      "394/394 [==============================] - 7s 17ms/step - loss: 0.2032 - accuracy: 0.9297 - val_loss: 1.2614 - val_accuracy: 0.6533\n",
      "Epoch 11/20\n",
      "394/394 [==============================] - 7s 17ms/step - loss: 0.1801 - accuracy: 0.9382 - val_loss: 1.2788 - val_accuracy: 0.6515\n",
      "Epoch 12/20\n",
      "394/394 [==============================] - 7s 17ms/step - loss: 0.1754 - accuracy: 0.9405 - val_loss: 1.2899 - val_accuracy: 0.6580\n",
      "Epoch 13/20\n",
      "394/394 [==============================] - 6s 16ms/step - loss: 0.1641 - accuracy: 0.9415 - val_loss: 1.3165 - val_accuracy: 0.6480\n",
      "Epoch 14/20\n",
      "394/394 [==============================] - 6s 16ms/step - loss: 0.1623 - accuracy: 0.9391 - val_loss: 1.3656 - val_accuracy: 0.6476\n",
      "Epoch 15/20\n",
      "394/394 [==============================] - 6s 16ms/step - loss: 0.1582 - accuracy: 0.9443 - val_loss: 1.3807 - val_accuracy: 0.6493\n",
      "Epoch 16/20\n",
      "394/394 [==============================] - 6s 16ms/step - loss: 0.1464 - accuracy: 0.9485 - val_loss: 1.4197 - val_accuracy: 0.6433\n",
      "Epoch 17/20\n",
      "394/394 [==============================] - 7s 17ms/step - loss: 0.1469 - accuracy: 0.9495 - val_loss: 1.4387 - val_accuracy: 0.6431\n",
      "Epoch 18/20\n",
      "394/394 [==============================] - 7s 17ms/step - loss: 0.1460 - accuracy: 0.9482 - val_loss: 1.4589 - val_accuracy: 0.6476\n",
      "Epoch 19/20\n",
      "394/394 [==============================] - 7s 18ms/step - loss: 0.1381 - accuracy: 0.9524 - val_loss: 1.4467 - val_accuracy: 0.6457\n",
      "Epoch 20/20\n",
      "394/394 [==============================] - 7s 17ms/step - loss: 0.1384 - accuracy: 0.9495 - val_loss: 1.4798 - val_accuracy: 0.6485\n"
     ]
    }
   ],
   "source": [
    "#Excute Bi-LSTM Model\n",
    "epoch_cnt=20\n",
    "\n",
    "history = model.fit(x_train, y_train,\n",
    "          batch_size=32,\n",
    "          epochs=epoch_cnt,\n",
    "          validation_data = (x_test, y_test))"
   ]
  },
  {
   "cell_type": "code",
   "execution_count": 8,
   "metadata": {},
   "outputs": [
    {
     "data": {
      "image/png": "[encoded data removed]",
      "text/plain": [
       "<Figure size 432x288 with 1 Axes>"
      ]
     },
     "metadata": {
      "needs_background": "light"
     },
     "output_type": "display_data"
    }
   ],
   "source": [
    "import matplotlib.pyplot as plt\n",
    "\n",
    "epochs = range(1, len(history.history['accuracy']) + 1)\n",
    "plt.plot(epochs, history.history['accuracy'])\n",
    "plt.plot(epochs, history.history['val_accuracy'])\n",
    "plt.title('model accuracy')\n",
    "plt.ylabel('accuracy')\n",
    "plt.xlabel('epochs')\n",
    "plt.legend(['train', 'test'], loc='lower right')\n",
    "plt.show()"
   ]
  }
 ],
 "metadata": {
  "accelerator": "GPU",
  "colab": {
   "authorship_tag": "ABX9TyNqtFOD5VZN+wZXoQPd4woW",
   "collapsed_sections": [],
   "mount_file_id": "1rWGArFNTmEABLCnbkxiaeJGiP-LtQbt-",
   "name": "term_project2.ipynb",
   "provenance": []
  },
  "kernelspec": {
   "display_name": "Python 3",
   "language": "python",
   "name": "python3"
  },
  "language_info": {
   "codemirror_mode": {
    "name": "ipython",
    "version": 3
   },
   "file_extension": ".py",
   "mimetype": "text/x-python",
   "name": "python",
   "nbconvert_exporter": "python",
   "pygments_lexer": "ipython3",
   "version": "3.8.2"
  }
 },
 "nbformat": 4,
 "nbformat_minor": 1
}
